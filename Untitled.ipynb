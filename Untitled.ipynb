{
 "cells": [
  {
   "cell_type": "code",
   "execution_count": 41,
   "id": "4b8a952c",
   "metadata": {},
   "outputs": [],
   "source": [
    "# Задача 1. Известно, что генеральная совокупность распределена нормально\n",
    "# со средним квадратическим отклонением, равным 16.\n",
    "# Найти доверительный интервал для оценки математического ожидания с надежностью 0.95,"
   ]
  },
  {
   "cell_type": "code",
   "execution_count": 129,
   "id": "60830a59",
   "metadata": {},
   "outputs": [],
   "source": [
    "import numpy as np\n",
    "import scipy.stats as stats"
   ]
  },
  {
   "cell_type": "code",
   "execution_count": 130,
   "id": "215eecb9",
   "metadata": {},
   "outputs": [
    {
     "data": {
      "text/plain": [
       "-1.9599639845400545"
      ]
     },
     "execution_count": 130,
     "metadata": {},
     "output_type": "execute_result"
    }
   ],
   "source": [
    "m = 80\n",
    "sigma = 16\n",
    "n = 256\n",
    "p = 0.95\n",
    "alpha = 0.05\n",
    "z = stats.norm.ppf(alpha/2)\n",
    "z"
   ]
  },
  {
   "cell_type": "code",
   "execution_count": 131,
   "id": "a02582b6",
   "metadata": {},
   "outputs": [
    {
     "name": "stdout",
     "output_type": "stream",
     "text": [
      "Доверительный интервал составляет: [78.04 ; 81.96]\n"
     ]
    }
   ],
   "source": [
    "t1 = m + z * sigma / n**(1/2)\n",
    "t2 = m - z * sigma / n**(1/2)\n",
    "print(f'Доверительный интервал составляет: [{t1:.2f} ; {t2:.2f}]')"
   ]
  },
  {
   "cell_type": "code",
   "execution_count": 132,
   "id": "c1762ed4",
   "metadata": {},
   "outputs": [],
   "source": [
    "# Задача 2. В результате 10 независимых измерений некоторой величины X, выполненных с\n",
    "# одинаковой точностью, получены опытные данные:\n",
    "# 6.9, 6.1, 6.2, 6.8, 7.5, 6.3, 6.4, 6.9, 6.7, 6.1\n",
    "# Предполагая, что результаты измерений подчинены нормальному закону распределения\n",
    "# вероятностей,оценить истинное значение величины X при помощи доверительного интервала,\n",
    "# покрывающего это значение с доверительной вероятностью 0,95."
   ]
  },
  {
   "cell_type": "code",
   "execution_count": 133,
   "id": "b50c2c68",
   "metadata": {},
   "outputs": [
    {
     "name": "stdout",
     "output_type": "stream",
     "text": [
      "Среднее арифметическое 6.590\n"
     ]
    }
   ],
   "source": [
    "array = [6.9, 6.1, 6.2, 6.8, 7.5, 6.3, 6.4, 6.9, 6.7, 6.1]\n",
    "n = len(array)\n",
    "x = np.mean(array)\n",
    "print(f'Среднее арифметическое {x:.3f}')"
   ]
  },
  {
   "cell_type": "code",
   "execution_count": 134,
   "id": "e2dab5c3",
   "metadata": {},
   "outputs": [
    {
     "name": "stdout",
     "output_type": "stream",
     "text": [
      "Среднее квадратическое отклонение 0.451\n"
     ]
    }
   ],
   "source": [
    "alpha = 0.05\n",
    "sigma = np.std(array, ddof=1)\n",
    "print(f'Среднее квадратическое отклонение {sigma:.3f}')"
   ]
  },
  {
   "cell_type": "code",
   "execution_count": 135,
   "id": "4baeaecf",
   "metadata": {},
   "outputs": [
    {
     "name": "stdout",
     "output_type": "stream",
     "text": [
      "Значение t-критерия 2.262\n"
     ]
    }
   ],
   "source": [
    "tk = stats.t.ppf( 1-alpha/2, n-1)\n",
    "print(f'Значение t-критерия {tk:.3f}')"
   ]
  },
  {
   "cell_type": "code",
   "execution_count": 137,
   "id": "ddf604d2",
   "metadata": {},
   "outputs": [
    {
     "name": "stdout",
     "output_type": "stream",
     "text": [
      "Доверительный интервал [6.268 ; 6.912]\n"
     ]
    }
   ],
   "source": [
    "t1 =x-tk*sigma/np.sqrt(n)\n",
    "t2 =x+tk*sigma/np.sqrt(n)\n",
    "print(f'Доверительный интервал [{t1:.3f} ; {t2:.3f}]')"
   ]
  },
  {
   "cell_type": "code",
   "execution_count": 142,
   "id": "fdb84ca4",
   "metadata": {},
   "outputs": [],
   "source": [
    "# Задача 3. Рост дочерей 175, 167, 154, 174, 178, 148, 160, 167, 169, 170\n",
    "# Рост матерей 178, 165, 165, 173, 168, 155, 160, 164, 178, 175\n",
    "# Используя эти данные построить 95% доверительный интервал для разности среднего\n",
    "# роста родителей и детей."
   ]
  },
  {
   "cell_type": "code",
   "execution_count": 147,
   "id": "9a16ffba",
   "metadata": {},
   "outputs": [],
   "source": [
    "d = np.array([175, 167, 154, 174, 178, 148, 160, 167, 169, 170])\n",
    "m = np.array([178, 165, 165, 173, 168, 155, 160, 164, 178, 175])"
   ]
  },
  {
   "cell_type": "code",
   "execution_count": 148,
   "id": "f52ece76",
   "metadata": {},
   "outputs": [],
   "source": [
    "d_mean = np.mean(d)\n",
    "m_mean = np.mean(m)\n",
    "delta = d_mean - m_mean"
   ]
  },
  {
   "cell_type": "code",
   "execution_count": 154,
   "id": "c182b6d9",
   "metadata": {},
   "outputs": [],
   "source": [
    "n_d = len(d)\n",
    "n_m = len(m)\n",
    "D1 = np.var(d, ddof = 1)\n",
    "D2 = np.var(m, ddof = 1)\n",
    "D = (D1 + D2) / 2\n",
    "SE = np.sqrt(D/n_d + D/n_m)\n",
    "tk = stats.t.ppf(0.975, 2 * (n - 1))"
   ]
  },
  {
   "cell_type": "code",
   "execution_count": 155,
   "id": "945ef476",
   "metadata": {},
   "outputs": [
    {
     "name": "stdout",
     "output_type": "stream",
     "text": [
      "Доверительный интервал [-10.068 ; 6.268]\n"
     ]
    }
   ],
   "source": [
    "t1 = delta - tk*SE\n",
    "t2 = delta + tk*SE\n",
    "print(f'Доверительный интервал [{t1:.3f} ; {t2:.3f}]')"
   ]
  },
  {
   "cell_type": "code",
   "execution_count": null,
   "id": "c62fdaf6",
   "metadata": {},
   "outputs": [],
   "source": []
  }
 ],
 "metadata": {
  "kernelspec": {
   "display_name": "Python 3 (ipykernel)",
   "language": "python",
   "name": "python3"
  },
  "language_info": {
   "codemirror_mode": {
    "name": "ipython",
    "version": 3
   },
   "file_extension": ".py",
   "mimetype": "text/x-python",
   "name": "python",
   "nbconvert_exporter": "python",
   "pygments_lexer": "ipython3",
   "version": "3.11.1"
  }
 },
 "nbformat": 4,
 "nbformat_minor": 5
}
